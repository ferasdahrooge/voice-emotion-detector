{
 "cells": [
  {
   "cell_type": "markdown",
   "metadata": {},
   "source": [
    "#### To Start Off\n",
    "- This project uses a dataset found on kaggle inorder to build an accurate based on 1400 recordings"
   ]
  },
  {
   "cell_type": "code",
   "execution_count": null,
   "metadata": {},
   "outputs": [],
   "source": [
    "# Create new directory \n",
    "! mkdir dataset\n",
    "# Download dataset from kaggle using my personal api which can be found on your kaggle account\n",
    "! KAGGLE_USERNAME=ferasdahrooge1 KAGGLE_KEY=d65a33337f60ea5b0a5ee063dd09b34d kaggle datasets download -d uwrfkaggler/ravdess-emotional-speech-audio\n",
    "# Unzip and save in newly created directory\n",
    "! unzip ravdess-emotional-speech-audio.zip -d dataset"
   ]
  },
  {
   "cell_type": "markdown",
   "metadata": {},
   "source": [
    "#### From the Dataset, Use the audio speech actors files to build a DataFrame"
   ]
  },
  {
   "cell_type": "code",
   "execution_count": 47,
   "metadata": {},
   "outputs": [],
   "source": [
    "import os\n",
    "\n",
    "dataset = \"/Users/ferasdahrooge/Documents/voice-emotion-detector/dataset/audio_speech_actors_01-24\"\n",
    "actor_list = os.listdir(dataset)\n",
    "path_list = []\n",
    "gender_list = []\n",
    "emotion_list = []\n",
    "\n",
    "emotion_dictionary = {\n",
    "  '01': 'neutral',\n",
    "  '02': 'calm',\n",
    "  '03': 'happy',\n",
    "  '04': 'sad',\n",
    "  '05': 'angry',\n",
    "  '06': 'fearful',\n",
    "  '07': 'disgust',\n",
    "  '08': 'surprised'\n",
    "}\n",
    "\n",
    "for directory in actor_list:\n",
    "    actor_files = os.listdir(os.path.join(dataset, directory))\n",
    "\n",
    "    for audio_file in actor_files: \n",
    "        part = audio_file.split('.')[0]\n",
    "        key = part.split('-')[2]\n",
    "        if key in emotion_dictionary:\n",
    "          gender_code = int(part.split('-')[6])\n",
    "          path_list.append(f\"{dataset}/{directory}/{audio_file}\")\n",
    "          gender_list.append('female' if gender_code % 2 == 0 else 'male')\n",
    "          emotion_list.append(emotion_dictionary[key])"
   ]
  },
  {
   "cell_type": "code",
   "execution_count": 48,
   "metadata": {},
   "outputs": [],
   "source": [
    "import pandas as pd\n",
    "\n",
    "# Build DataFrame\n",
    "dataframe = pd.concat([\n",
    "  pd.DataFrame(path_list, columns=[\"path\"]),\n",
    "  pd.DataFrame(gender_list, columns=[\"gender\"]),\n",
    "  pd.DataFrame(emotion_list, columns=[\"emotion\"])\n",
    "] , axis=1)"
   ]
  },
  {
   "cell_type": "code",
   "execution_count": 49,
   "metadata": {},
   "outputs": [
    {
     "data": {
      "text/html": [
       "<div>\n",
       "<style scoped>\n",
       "    .dataframe tbody tr th:only-of-type {\n",
       "        vertical-align: middle;\n",
       "    }\n",
       "\n",
       "    .dataframe tbody tr th {\n",
       "        vertical-align: top;\n",
       "    }\n",
       "\n",
       "    .dataframe thead th {\n",
       "        text-align: right;\n",
       "    }\n",
       "</style>\n",
       "<table border=\"1\" class=\"dataframe\">\n",
       "  <thead>\n",
       "    <tr style=\"text-align: right;\">\n",
       "      <th></th>\n",
       "      <th>path</th>\n",
       "      <th>gender</th>\n",
       "      <th>emotion</th>\n",
       "    </tr>\n",
       "  </thead>\n",
       "  <tbody>\n",
       "    <tr>\n",
       "      <th>0</th>\n",
       "      <td>/Users/ferasdahrooge/Documents/voice-emotion-d...</td>\n",
       "      <td>female</td>\n",
       "      <td>angry</td>\n",
       "    </tr>\n",
       "    <tr>\n",
       "      <th>1</th>\n",
       "      <td>/Users/ferasdahrooge/Documents/voice-emotion-d...</td>\n",
       "      <td>female</td>\n",
       "      <td>fearful</td>\n",
       "    </tr>\n",
       "    <tr>\n",
       "      <th>2</th>\n",
       "      <td>/Users/ferasdahrooge/Documents/voice-emotion-d...</td>\n",
       "      <td>female</td>\n",
       "      <td>fearful</td>\n",
       "    </tr>\n",
       "    <tr>\n",
       "      <th>3</th>\n",
       "      <td>/Users/ferasdahrooge/Documents/voice-emotion-d...</td>\n",
       "      <td>female</td>\n",
       "      <td>angry</td>\n",
       "    </tr>\n",
       "    <tr>\n",
       "      <th>4</th>\n",
       "      <td>/Users/ferasdahrooge/Documents/voice-emotion-d...</td>\n",
       "      <td>female</td>\n",
       "      <td>disgust</td>\n",
       "    </tr>\n",
       "    <tr>\n",
       "      <th>...</th>\n",
       "      <td>...</td>\n",
       "      <td>...</td>\n",
       "      <td>...</td>\n",
       "    </tr>\n",
       "    <tr>\n",
       "      <th>1435</th>\n",
       "      <td>/Users/ferasdahrooge/Documents/voice-emotion-d...</td>\n",
       "      <td>female</td>\n",
       "      <td>happy</td>\n",
       "    </tr>\n",
       "    <tr>\n",
       "      <th>1436</th>\n",
       "      <td>/Users/ferasdahrooge/Documents/voice-emotion-d...</td>\n",
       "      <td>female</td>\n",
       "      <td>happy</td>\n",
       "    </tr>\n",
       "    <tr>\n",
       "      <th>1437</th>\n",
       "      <td>/Users/ferasdahrooge/Documents/voice-emotion-d...</td>\n",
       "      <td>female</td>\n",
       "      <td>calm</td>\n",
       "    </tr>\n",
       "    <tr>\n",
       "      <th>1438</th>\n",
       "      <td>/Users/ferasdahrooge/Documents/voice-emotion-d...</td>\n",
       "      <td>female</td>\n",
       "      <td>calm</td>\n",
       "    </tr>\n",
       "    <tr>\n",
       "      <th>1439</th>\n",
       "      <td>/Users/ferasdahrooge/Documents/voice-emotion-d...</td>\n",
       "      <td>female</td>\n",
       "      <td>neutral</td>\n",
       "    </tr>\n",
       "  </tbody>\n",
       "</table>\n",
       "<p>1440 rows × 3 columns</p>\n",
       "</div>"
      ],
      "text/plain": [
       "                                                   path  gender  emotion\n",
       "0     /Users/ferasdahrooge/Documents/voice-emotion-d...  female    angry\n",
       "1     /Users/ferasdahrooge/Documents/voice-emotion-d...  female  fearful\n",
       "2     /Users/ferasdahrooge/Documents/voice-emotion-d...  female  fearful\n",
       "3     /Users/ferasdahrooge/Documents/voice-emotion-d...  female    angry\n",
       "4     /Users/ferasdahrooge/Documents/voice-emotion-d...  female  disgust\n",
       "...                                                 ...     ...      ...\n",
       "1435  /Users/ferasdahrooge/Documents/voice-emotion-d...  female    happy\n",
       "1436  /Users/ferasdahrooge/Documents/voice-emotion-d...  female    happy\n",
       "1437  /Users/ferasdahrooge/Documents/voice-emotion-d...  female     calm\n",
       "1438  /Users/ferasdahrooge/Documents/voice-emotion-d...  female     calm\n",
       "1439  /Users/ferasdahrooge/Documents/voice-emotion-d...  female  neutral\n",
       "\n",
       "[1440 rows x 3 columns]"
      ]
     },
     "execution_count": 49,
     "metadata": {},
     "output_type": "execute_result"
    }
   ],
   "source": [
    "dataframe"
   ]
  },
  {
   "cell_type": "code",
   "execution_count": 50,
   "metadata": {},
   "outputs": [],
   "source": [
    "# Check how many emotions and genders that exists in this dataFrame\n",
    "df_count_gender = dataframe.groupby([\"emotion\", \"gender\"]).count().unstack()"
   ]
  },
  {
   "cell_type": "code",
   "execution_count": 51,
   "metadata": {},
   "outputs": [
    {
     "data": {
      "text/html": [
       "<div>\n",
       "<style scoped>\n",
       "    .dataframe tbody tr th:only-of-type {\n",
       "        vertical-align: middle;\n",
       "    }\n",
       "\n",
       "    .dataframe tbody tr th {\n",
       "        vertical-align: top;\n",
       "    }\n",
       "\n",
       "    .dataframe thead tr th {\n",
       "        text-align: left;\n",
       "    }\n",
       "\n",
       "    .dataframe thead tr:last-of-type th {\n",
       "        text-align: right;\n",
       "    }\n",
       "</style>\n",
       "<table border=\"1\" class=\"dataframe\">\n",
       "  <thead>\n",
       "    <tr>\n",
       "      <th></th>\n",
       "      <th colspan=\"2\" halign=\"left\">path</th>\n",
       "    </tr>\n",
       "    <tr>\n",
       "      <th>gender</th>\n",
       "      <th>female</th>\n",
       "      <th>male</th>\n",
       "    </tr>\n",
       "    <tr>\n",
       "      <th>emotion</th>\n",
       "      <th></th>\n",
       "      <th></th>\n",
       "    </tr>\n",
       "  </thead>\n",
       "  <tbody>\n",
       "    <tr>\n",
       "      <th>angry</th>\n",
       "      <td>96</td>\n",
       "      <td>96</td>\n",
       "    </tr>\n",
       "    <tr>\n",
       "      <th>calm</th>\n",
       "      <td>96</td>\n",
       "      <td>96</td>\n",
       "    </tr>\n",
       "    <tr>\n",
       "      <th>disgust</th>\n",
       "      <td>96</td>\n",
       "      <td>96</td>\n",
       "    </tr>\n",
       "    <tr>\n",
       "      <th>fearful</th>\n",
       "      <td>96</td>\n",
       "      <td>96</td>\n",
       "    </tr>\n",
       "    <tr>\n",
       "      <th>happy</th>\n",
       "      <td>96</td>\n",
       "      <td>96</td>\n",
       "    </tr>\n",
       "    <tr>\n",
       "      <th>neutral</th>\n",
       "      <td>48</td>\n",
       "      <td>48</td>\n",
       "    </tr>\n",
       "    <tr>\n",
       "      <th>sad</th>\n",
       "      <td>96</td>\n",
       "      <td>96</td>\n",
       "    </tr>\n",
       "    <tr>\n",
       "      <th>surprised</th>\n",
       "      <td>96</td>\n",
       "      <td>96</td>\n",
       "    </tr>\n",
       "  </tbody>\n",
       "</table>\n",
       "</div>"
      ],
      "text/plain": [
       "            path     \n",
       "gender    female male\n",
       "emotion              \n",
       "angry         96   96\n",
       "calm          96   96\n",
       "disgust       96   96\n",
       "fearful       96   96\n",
       "happy         96   96\n",
       "neutral       48   48\n",
       "sad           96   96\n",
       "surprised     96   96"
      ]
     },
     "execution_count": 51,
     "metadata": {},
     "output_type": "execute_result"
    }
   ],
   "source": [
    "df_count_gender"
   ]
  },
  {
   "cell_type": "code",
   "execution_count": 52,
   "metadata": {},
   "outputs": [
    {
     "data": {
      "image/png": "[encoded data removed]",
      "text/plain": [
       "<Figure size 640x480 with 1 Axes>"
      ]
     },
     "metadata": {},
     "output_type": "display_data"
    }
   ],
   "source": [
    "import matplotlib.pyplot as plt\n",
    "\n",
    "df_count_gender.plot(kind = 'bar', stacked= False)\n",
    "plt.xlabel('Emotion')\n",
    "plt.ylabel('Count')\n",
    "plt.title('Recordings Emotions for both genders')\n",
    "plt.legend([\"female\",\"male\"], loc = 'upper left')\n",
    "plt.show()"
   ]
  },
  {
   "cell_type": "markdown",
   "metadata": {},
   "source": [
    "#### After Plotting it's important to note these are more of recorded audios so they need to be transferred into a language that the model is capable of reading"
   ]
  },
  {
   "cell_type": "code",
   "execution_count": 87,
   "metadata": {},
   "outputs": [],
   "source": [
    "import numpy as np\n",
    "import soundfile as sf\n",
    "from scipy.ndimage import label"
   ]
  },
  {
   "cell_type": "code",
   "execution_count": 88,
   "metadata": {},
   "outputs": [],
   "source": [
    "def preprocess_audio(path):\n",
    "  audio, sample_rate = sf.read(path)\n",
    "\n",
    "    # Compute energy of the audio\n",
    "  energy = np.sum(np.square(audio), axis=-1)\n",
    "\n",
    "  # Determine the threshold for trimming\n",
    "  threshold = np.max(energy) * 10**(-25/10) \n",
    "\n",
    "  # Detect non-silent regions\n",
    "  non_silent_mask = energy > threshold\n",
    "  labeled_mask, num_labels = label(non_silent_mask)\n",
    "\n",
    "  # Find the longest non-silent region\n",
    "  longest_region = np.argmax(np.bincount(labeled_mask.ravel())[1:]) + 1\n",
    "  non_silent_indices = np.where(labeled_mask == longest_region)[0]\n",
    "\n",
    "  # Extract the trimmed audio\n",
    "  trimmed_audio = audio[non_silent_indices]\n",
    "\n",
    "  # Pad or truncate audio to desired length\n",
    "  target_length = 180000\n",
    "  if len(trimmed_audio) < target_length:\n",
    "      pad_amount = target_length - len(trimmed_audio)\n",
    "      padded_audio = np.pad(trimmed_audio, (0, pad_amount), 'constant')\n",
    "  else:\n",
    "      padded_audio = trimmed_audio[:target_length]\n",
    "\n",
    "  return padded_audio, sample_rate\n",
    "  "
   ]
  },
  {
   "cell_type": "code",
   "execution_count": 89,
   "metadata": {},
   "outputs": [],
   "source": [
    "emotion_dictionary_label = {\n",
    "  \"neutral\": 0,\n",
    "  \"calm\" : 1,\n",
    "  \"happy\" : 2,\n",
    "  \"sad\" : 3,\n",
    "  \"angry\" : 4,\n",
    "  \"fearful\" : 5,\n",
    "  \"disgust\" : 6,\n",
    "  \"surprised\" : 7\n",
    "}\n",
    "def encode(label):\n",
    "  return emotion_dictionary_label.get(label)"
   ]
  },
  {
   "cell_type": "code",
   "execution_count": null,
   "metadata": {},
   "outputs": [],
   "source": [
    "zcr_list = []\n",
    "rms_list = []\n",
    "mfccs_list = []\n",
    "emotion_list = []\n",
    "FRAME_LENGTH = 2048\n",
    "HOP_LENGTH = 512\n",
    "for row in dataframe.itertuples():\n",
    "    try:\n",
    "        y, sr = preprocess_audio(row.path)\n",
    "        print(y, sr)\n",
    "        \n",
    "        # Compute zero-crossing rate\n",
    "        frame_length = FRAME_LENGTH\n",
    "        hop_length = HOP_LENGTH\n",
    "        zcr = np.sum(np.abs(np.diff(np.sign(y))), axis=-1) / (2 * frame_length)\n",
    "        \n",
    "        # Compute root mean square\n",
    "        rms = np.sqrt(np.mean(np.square(y), axis=-1))\n",
    "        \n",
    "        # Compute MFCCs\n",
    "        n_mfcc = 13\n",
    "        mfccs = np.zeros((n_mfcc, y.shape[0] // hop_length))\n",
    "        for i, hop in enumerate(range(0, y.shape[0] - frame_length + 1, hop_length)):\n",
    "            frame = y[hop : hop + frame_length]\n",
    "            mfccs[:, i] = your_mfcc_computation_function(frame, sr, n_mfcc)\n",
    "        \n",
    "        zcr_list.append(zcr)\n",
    "        rms_list.append(rms)\n",
    "        mfccs_list.append(mfccs)\n",
    "        emotion_list.append(encode(row.emotion))\n",
    "    except:\n",
    "        print(f\"Failed for path: {row.path}\")\n"
   ]
  },
  {
   "cell_type": "code",
   "execution_count": null,
   "metadata": {},
   "outputs": [],
   "source": []
  }
 ],
 "metadata": {
  "kernelspec": {
   "display_name": "Python 3.9.13 ('base')",
   "language": "python",
   "name": "python3"
  },
  "language_info": {
   "codemirror_mode": {
    "name": "ipython",
    "version": 3
   },
   "file_extension": ".py",
   "mimetype": "text/x-python",
   "name": "python",
   "nbconvert_exporter": "python",
   "pygments_lexer": "ipython3",
   "version": "3.9.13"
  },
  "orig_nbformat": 4,
  "vscode": {
   "interpreter": {
    "hash": "2d8559e58fad08f6b149f9f678acd42e602cfd8cee785110be98faa6bcb4ac45"
   }
  }
 },
 "nbformat": 4,
 "nbformat_minor": 2
}
