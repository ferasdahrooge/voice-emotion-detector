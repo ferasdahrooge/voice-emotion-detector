{
 "cells": [
  {
   "cell_type": "markdown",
   "metadata": {},
   "source": [
    "#### To Start Off\n",
    "- This project uses a dataset found on kaggle inorder to build an accurate based on 1400 recordings"
   ]
  },
  {
   "cell_type": "code",
   "execution_count": null,
   "metadata": {},
   "outputs": [],
   "source": [
    "# Create new directory \n",
    "! mkdir dataset\n",
    "# Download dataset from kaggle using my personal api which can be found on your kaggle account\n",
    "! KAGGLE_USERNAME=ferasdahrooge1 KAGGLE_KEY=d65a33337f60ea5b0a5ee063dd09b34d kaggle datasets download -d uwrfkaggler/ravdess-emotional-speech-audio\n",
    "# Unzip and save in newly created directory\n",
    "! unzip ravdess-emotional-speech-audio.zip -d dataset"
   ]
  },
  {
   "cell_type": "code",
   "execution_count": null,
   "metadata": {},
   "outputs": [],
   "source": []
  }
 ],
 "metadata": {
  "language_info": {
   "name": "python"
  },
  "orig_nbformat": 4
 },
 "nbformat": 4,
 "nbformat_minor": 2
}
